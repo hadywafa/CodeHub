{
 "cells": [
  {
   "cell_type": "markdown",
   "id": "fe7a0c51",
   "metadata": {},
   "source": [
    "# Pedantic With Examples ⚠️ "
   ]
  },
  {
   "cell_type": "code",
   "execution_count": 2,
   "id": "5967cf0b-0a33-41de-a7be-20bf90e7ae2e",
   "metadata": {},
   "outputs": [],
   "source": [
    "from dataclasses import dataclass\n",
    "\n",
    "\n",
    "@dataclass\n",
    "class Employee:\n",
    "    def __init__(self, name, salary):\n",
    "        self.name = name\n",
    "        self.salary = salary\n",
    "\n",
    "    def get_salary(self):\n",
    "        return self.salary\n",
    "\n",
    "    def set_salary(self, new_salary):\n",
    "        self.salary = new_salary"
   ]
  },
  {
   "cell_type": "code",
   "execution_count": 4,
   "id": "9a4a098f",
   "metadata": {},
   "outputs": [
    {
     "name": "stdout",
     "output_type": "stream",
     "text": [
      "John Doe\n",
      "6000\n"
     ]
    }
   ],
   "source": [
    "\n",
    "employee = Employee(\"John Doe\", 5000)\n",
    "employee.set_salary(6000)\n",
    "print(employee.name)\n",
    "print(employee.get_salary())"
   ]
  }
 ],
 "metadata": {
  "kernelspec": {
   "display_name": "Python 3",
   "language": "python",
   "name": "python3"
  },
  "language_info": {
   "codemirror_mode": {
    "name": "ipython",
    "version": 3
   },
   "file_extension": ".py",
   "mimetype": "text/x-python",
   "name": "python",
   "nbconvert_exporter": "python",
   "pygments_lexer": "ipython3",
   "version": "3.13.2"
  }
 },
 "nbformat": 4,
 "nbformat_minor": 5
}
